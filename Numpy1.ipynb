{
 "cells": [
  {
   "cell_type": "markdown",
   "id": "15a6fdb8-6e19-4945-bde5-9fda92609da3",
   "metadata": {},
   "source": [
    "## NumPy"
   ]
  },
  {
   "cell_type": "markdown",
   "id": "4d7da9d9-40b4-41f7-a9a0-50dca6f76630",
   "metadata": {},
   "source": [
    "-> Numpy is a python package stands for numeric python\n",
    "-> Numpy is ised perform mathematical calcualtion in python\n",
    "-> it is used by importing numpy library\n",
    "-> it consists of multidimensional arrays and metrices along with a collection of operations that we can perform on numpy arrays\n",
    "-> it provides many functions which leads to effeicient and fast operations"
   ]
  },
  {
   "cell_type": "code",
   "execution_count": 1,
   "id": "32cf1c6f-9aa5-4ccd-ba6a-393165f0fb3a",
   "metadata": {},
   "outputs": [],
   "source": [
    "import numpy as np"
   ]
  },
  {
   "cell_type": "markdown",
   "id": "867b9306-9612-4fe3-9611-a71d0a43b4f0",
   "metadata": {},
   "source": [
    "numpy arrays 1d array"
   ]
  },
  {
   "cell_type": "code",
   "execution_count": 2,
   "id": "a2f0c608-a300-4cd6-82a2-7f6e3861756b",
   "metadata": {},
   "outputs": [],
   "source": [
    "one_d_array = np.array([1,2,3])       # creating numpy arrays"
   ]
  },
  {
   "cell_type": "code",
   "execution_count": 3,
   "id": "2e82982e-a3a1-4691-a344-6b78cb0cad09",
   "metadata": {},
   "outputs": [
    {
     "name": "stdout",
     "output_type": "stream",
     "text": [
      "[1 2 3]\n"
     ]
    }
   ],
   "source": [
    "print(one_d_array)"
   ]
  },
  {
   "cell_type": "code",
   "execution_count": 4,
   "id": "05767ecd-9592-47c1-859d-e8294cec4e31",
   "metadata": {},
   "outputs": [
    {
     "data": {
      "text/plain": [
       "numpy.ndarray"
      ]
     },
     "execution_count": 4,
     "metadata": {},
     "output_type": "execute_result"
    }
   ],
   "source": [
    "type(one_d_array)       # ndarray is n dimensional array used to manipulate arrays such as 1D, 2D, 3D, etc"
   ]
  },
  {
   "cell_type": "markdown",
   "id": "598ff5dc-f38c-4f18-86df-71d614439367",
   "metadata": {},
   "source": [
    "### Creating 1D array using list"
   ]
  },
  {
   "cell_type": "code",
   "execution_count": 5,
   "id": "9c027372-5c6c-4b47-84b7-740672d081ee",
   "metadata": {},
   "outputs": [],
   "source": [
    "list = [2,4,6,8]"
   ]
  },
  {
   "cell_type": "code",
   "execution_count": 6,
   "id": "18ebe2ce-b813-4103-ba04-cf1a9b2d4f68",
   "metadata": {},
   "outputs": [],
   "source": [
    "arr1 = np.array(list)"
   ]
  },
  {
   "cell_type": "code",
   "execution_count": 7,
   "id": "8e0a6432-142a-4555-99db-2d94bde383a0",
   "metadata": {},
   "outputs": [
    {
     "name": "stdout",
     "output_type": "stream",
     "text": [
      "[2 4 6 8]\n"
     ]
    }
   ],
   "source": [
    "print(arr1)"
   ]
  },
  {
   "cell_type": "code",
   "execution_count": 8,
   "id": "6d77ad52-e368-49cd-af36-67f5b1f6eb7a",
   "metadata": {},
   "outputs": [],
   "source": [
    "# creating 2D array"
   ]
  },
  {
   "cell_type": "code",
   "execution_count": 9,
   "id": "5ab6b71b-d0f0-4ea4-8eb7-5bbde041e6f5",
   "metadata": {},
   "outputs": [],
   "source": [
    "two_d_array = np.array([[1,3,5,7,9],[2,4,6,8,10]])  #creating 2d array using two 1d array in []'s"
   ]
  },
  {
   "cell_type": "code",
   "execution_count": 10,
   "id": "3beb169c-02b5-42d3-a26e-5226a6170ed0",
   "metadata": {},
   "outputs": [
    {
     "name": "stdout",
     "output_type": "stream",
     "text": [
      "[[ 1  3  5  7  9]\n",
      " [ 2  4  6  8 10]]\n"
     ]
    }
   ],
   "source": [
    "print(two_d_array)"
   ]
  },
  {
   "cell_type": "code",
   "execution_count": 11,
   "id": "21e4974d-bfcd-4823-939f-b28143721123",
   "metadata": {},
   "outputs": [
    {
     "name": "stdout",
     "output_type": "stream",
     "text": [
      "(2, 5)\n"
     ]
    }
   ],
   "source": [
    "print(two_d_array.shape)    # this shows the shape of two_d_array with 2 rows and 5 columns"
   ]
  },
  {
   "cell_type": "code",
   "execution_count": 12,
   "id": "564013fc-2f14-4d0f-9d7c-e832373412b8",
   "metadata": {},
   "outputs": [
    {
     "name": "stdout",
     "output_type": "stream",
     "text": [
      "10\n"
     ]
    }
   ],
   "source": [
    "print(two_d_array.size)       #this shows number of elements in the array"
   ]
  },
  {
   "cell_type": "code",
   "execution_count": 13,
   "id": "4f3a009f-db14-4159-9a41-dea0ec455e02",
   "metadata": {},
   "outputs": [
    {
     "name": "stdout",
     "output_type": "stream",
     "text": [
      "2\n"
     ]
    }
   ],
   "source": [
    "print(two_d_array.ndim)      #this shows the dimension of array"
   ]
  },
  {
   "cell_type": "code",
   "execution_count": 14,
   "id": "bbe3ede4-1124-486b-9f2e-3f9877c686c6",
   "metadata": {},
   "outputs": [
    {
     "name": "stdout",
     "output_type": "stream",
     "text": [
      "int32\n"
     ]
    }
   ],
   "source": [
    "print(two_d_array.dtype)   #this shows data type of array that types of elements stored in array"
   ]
  },
  {
   "cell_type": "code",
   "execution_count": 15,
   "id": "0bf34d45-a8b0-4554-94d9-73d9c9df7e60",
   "metadata": {},
   "outputs": [
    {
     "name": "stdout",
     "output_type": "stream",
     "text": [
      "4\n"
     ]
    }
   ],
   "source": [
    "print(two_d_array.itemsize)   # this shows size of each element of array in bytes as memory usage of each element"
   ]
  },
  {
   "cell_type": "code",
   "execution_count": 16,
   "id": "304507df-97f5-42b4-b0e2-aa3dd372c97f",
   "metadata": {},
   "outputs": [],
   "source": [
    "# creating 3D array "
   ]
  },
  {
   "cell_type": "code",
   "execution_count": 17,
   "id": "500ef1b7-8070-42b5-bc35-1eceda2a50df",
   "metadata": {},
   "outputs": [],
   "source": [
    "arr3 = np.array(\n",
    "    [\n",
    "        [\n",
    "            [1,2,3],\n",
    "            [4,5,6],\n",
    "            [11,22,33]\n",
    "        ],\n",
    "        [\n",
    "            [7,8,9],\n",
    "            [10,11,12],\n",
    "            [44,55,66]\n",
    "        ],\n",
    "        [\n",
    "            [13,14,15],\n",
    "            [16,17,18],\n",
    "            [77,88,99]\n",
    "        ]\n",
    "    ]\n",
    ")"
   ]
  },
  {
   "cell_type": "markdown",
   "id": "d1f4dc9b-172f-44c7-821e-32476172c439",
   "metadata": {},
   "source": [
    "#### 3D array is created using two or more 2D arrays"
   ]
  },
  {
   "cell_type": "code",
   "execution_count": 18,
   "id": "e176b4d2-ac83-4bc9-b07b-9296af2906e8",
   "metadata": {},
   "outputs": [
    {
     "name": "stdout",
     "output_type": "stream",
     "text": [
      "[[[ 1  2  3]\n",
      "  [ 4  5  6]\n",
      "  [11 22 33]]\n",
      "\n",
      " [[ 7  8  9]\n",
      "  [10 11 12]\n",
      "  [44 55 66]]\n",
      "\n",
      " [[13 14 15]\n",
      "  [16 17 18]\n",
      "  [77 88 99]]]\n",
      "(3, 3, 3)\n",
      "27\n",
      "3\n",
      "int32\n",
      "4\n"
     ]
    }
   ],
   "source": [
    "print(arr3)\n",
    "print(arr3.shape)\n",
    "print(arr3.size)\n",
    "print(arr3.ndim)\n",
    "print(arr3.dtype)\n",
    "print(arr3.itemsize)"
   ]
  },
  {
   "cell_type": "code",
   "execution_count": null,
   "id": "214587c7-306e-4e03-a158-c5ac27b15a39",
   "metadata": {},
   "outputs": [],
   "source": []
  },
  {
   "cell_type": "markdown",
   "id": "e0a8913f-9afe-4721-9533-2f7da5a9c0ec",
   "metadata": {},
   "source": [
    "### Memory comparision of Python list and Numpy arrays"
   ]
  },
  {
   "cell_type": "code",
   "execution_count": 19,
   "id": "08c56703-f376-4414-a825-463a15d1fd06",
   "metadata": {},
   "outputs": [],
   "source": [
    "import sys"
   ]
  },
  {
   "cell_type": "code",
   "execution_count": 20,
   "id": "ef1829fb-6163-4977-ae9a-5e395ffbbcd5",
   "metadata": {},
   "outputs": [],
   "source": [
    "list1 = [1,2,3,4,5,6,7,8,9,10,11,12,13,14,15]"
   ]
  },
  {
   "cell_type": "code",
   "execution_count": 21,
   "id": "1ee06bdd-69e9-4f1b-94ec-a552f4606ce4",
   "metadata": {},
   "outputs": [
    {
     "name": "stdout",
     "output_type": "stream",
     "text": [
      "[1, 2, 3, 4, 5, 6, 7, 8, 9, 10, 11, 12, 13, 14, 15]\n"
     ]
    }
   ],
   "source": [
    "print(list1)"
   ]
  },
  {
   "cell_type": "code",
   "execution_count": 22,
   "id": "4c000f5a-812f-4da9-8b83-31ba957ad952",
   "metadata": {},
   "outputs": [],
   "source": [
    "arr = np.array([1,2,3,4,5,6,7,8,9,10,11,12,13,14,15])"
   ]
  },
  {
   "cell_type": "code",
   "execution_count": 23,
   "id": "2f1e79d5-28de-4d00-9f76-f7d50d265057",
   "metadata": {},
   "outputs": [
    {
     "name": "stdout",
     "output_type": "stream",
     "text": [
      "[ 1  2  3  4  5  6  7  8  9 10 11 12 13 14 15]\n"
     ]
    }
   ],
   "source": [
    "print(arr)"
   ]
  },
  {
   "cell_type": "code",
   "execution_count": 24,
   "id": "8c773531-efb2-4f8b-b34e-8e0eaffd73ff",
   "metadata": {},
   "outputs": [],
   "source": [
    "list_memory = sys.getsizeof(list1) * len(list1)      # provides the total number of bytes consumed by elements of list"
   ]
  },
  {
   "cell_type": "code",
   "execution_count": 25,
   "id": "e319cfd2-ae21-4ae2-8cad-58b6f2789e19",
   "metadata": {},
   "outputs": [
    {
     "name": "stdout",
     "output_type": "stream",
     "text": [
      "2760\n"
     ]
    }
   ],
   "source": [
    "print(list_memory)"
   ]
  },
  {
   "cell_type": "code",
   "execution_count": 26,
   "id": "bfa72145-ac4f-4914-8fe2-7c62334b00d3",
   "metadata": {},
   "outputs": [],
   "source": [
    "array_memory = arr.nbytes     # provides the total number of bytes consumed by elements of array"
   ]
  },
  {
   "cell_type": "code",
   "execution_count": 27,
   "id": "83384664-b1d1-4208-afc6-6ecd1064ca82",
   "metadata": {},
   "outputs": [
    {
     "name": "stdout",
     "output_type": "stream",
     "text": [
      "60\n"
     ]
    }
   ],
   "source": [
    "print(array_memory)"
   ]
  },
  {
   "cell_type": "markdown",
   "id": "b5139f18-7524-4a66-adf9-223531cefb95",
   "metadata": {},
   "source": [
    "###  list vs array"
   ]
  },
  {
   "cell_type": "code",
   "execution_count": 28,
   "id": "9dd5236e-b8df-455b-9ba9-189ba2a5a93d",
   "metadata": {},
   "outputs": [],
   "source": [
    "ls = [11,22,33]"
   ]
  },
  {
   "cell_type": "code",
   "execution_count": 29,
   "id": "c2aea7f2-4976-4d1b-b869-52108360dcf6",
   "metadata": {},
   "outputs": [],
   "source": [
    "ar = np.array([11,22,33])"
   ]
  },
  {
   "cell_type": "code",
   "execution_count": 30,
   "id": "78c34ad1-25ec-41eb-a431-be2efa6edeff",
   "metadata": {},
   "outputs": [
    {
     "ename": "TypeError",
     "evalue": "can only concatenate list (not \"int\") to list",
     "output_type": "error",
     "traceback": [
      "\u001b[1;31m---------------------------------------------------------------------------\u001b[0m",
      "\u001b[1;31mTypeError\u001b[0m                                 Traceback (most recent call last)",
      "Cell \u001b[1;32mIn[30], line 1\u001b[0m\n\u001b[1;32m----> 1\u001b[0m \u001b[38;5;28mprint\u001b[39m(ls\u001b[38;5;241m+\u001b[39m\u001b[38;5;241m4\u001b[39m)\n",
      "\u001b[1;31mTypeError\u001b[0m: can only concatenate list (not \"int\") to list"
     ]
    }
   ],
   "source": [
    "print(ls+4)    # list donot support this functional operations"
   ]
  },
  {
   "cell_type": "code",
   "execution_count": 31,
   "id": "5bdff066-f9d2-471b-a4d5-f11a94b43155",
   "metadata": {},
   "outputs": [
    {
     "name": "stdout",
     "output_type": "stream",
     "text": [
      "[15 26 37]\n"
     ]
    }
   ],
   "source": [
    "print(ar+4)   # arrays support this functional operations"
   ]
  },
  {
   "cell_type": "code",
   "execution_count": null,
   "id": "fd54e377-2957-42a8-92e1-8f27139b9215",
   "metadata": {},
   "outputs": [],
   "source": []
  },
  {
   "cell_type": "markdown",
   "id": "73dfd17e-0620-45a0-8bab-eaa5037c7c38",
   "metadata": {},
   "source": [
    "### Creating arrays in different ways"
   ]
  },
  {
   "cell_type": "code",
   "execution_count": 32,
   "id": "e3cc4b23-5c0f-48ed-b556-7160ba00a58d",
   "metadata": {},
   "outputs": [],
   "source": [
    "zeros = np.zeros(4)    # create a array filled with zeroes \n",
    "                       #  by default it's data type of float"
   ]
  },
  {
   "cell_type": "code",
   "execution_count": 33,
   "id": "3dc495d9-e179-4bd4-9ed8-4ec10acbb832",
   "metadata": {},
   "outputs": [
    {
     "name": "stdout",
     "output_type": "stream",
     "text": [
      "[0. 0. 0. 0.]\n",
      "float64\n"
     ]
    }
   ],
   "source": [
    "print(zeros)\n",
    "print(zeros.dtype)"
   ]
  },
  {
   "cell_type": "code",
   "execution_count": 34,
   "id": "d0396ebb-eb79-4e6c-823f-46c80c56e78b",
   "metadata": {},
   "outputs": [],
   "source": [
    "z1 = np.zeros((3,3))  # creates 2D array filled with zeroes"
   ]
  },
  {
   "cell_type": "code",
   "execution_count": 35,
   "id": "ac7c5885-a7a9-453a-a281-fd694e5dfde1",
   "metadata": {},
   "outputs": [
    {
     "name": "stdout",
     "output_type": "stream",
     "text": [
      "[[0. 0. 0.]\n",
      " [0. 0. 0.]\n",
      " [0. 0. 0.]]\n",
      "2\n"
     ]
    }
   ],
   "source": [
    "print(z1)\n",
    "print(z1.ndim)"
   ]
  },
  {
   "cell_type": "code",
   "execution_count": 36,
   "id": "1afaf327-37e7-4b97-a183-c7e4969588f2",
   "metadata": {},
   "outputs": [],
   "source": [
    "one = np.ones(5, dtype=\"int\")      #create a array filled with ones\n",
    "                                  # by default it's data type of float\n",
    "                                    # but we can specify dtype int"
   ]
  },
  {
   "cell_type": "code",
   "execution_count": 37,
   "id": "f390b4cf-4494-43cd-9a8c-3a04f9a8f27a",
   "metadata": {},
   "outputs": [
    {
     "name": "stdout",
     "output_type": "stream",
     "text": [
      "[1 1 1 1 1]\n",
      "int32\n",
      "1\n"
     ]
    }
   ],
   "source": [
    "print(one)\n",
    "print(one.dtype)\n",
    "print(one.ndim)"
   ]
  },
  {
   "cell_type": "code",
   "execution_count": 38,
   "id": "f8837a4e-b99b-4c0a-8d58-ec7ce2aefb61",
   "metadata": {},
   "outputs": [],
   "source": [
    "o2 = np.ones((3,3,3),dtype=\"int\")       # creates 3D array of ones"
   ]
  },
  {
   "cell_type": "code",
   "execution_count": 39,
   "id": "a574ede3-3523-4a46-aa2f-0b2b02645fd5",
   "metadata": {},
   "outputs": [
    {
     "name": "stdout",
     "output_type": "stream",
     "text": [
      "[[[1 1 1]\n",
      "  [1 1 1]\n",
      "  [1 1 1]]\n",
      "\n",
      " [[1 1 1]\n",
      "  [1 1 1]\n",
      "  [1 1 1]]\n",
      "\n",
      " [[1 1 1]\n",
      "  [1 1 1]\n",
      "  [1 1 1]]]\n",
      "3\n"
     ]
    }
   ],
   "source": [
    "print(o2)\n",
    "print(o2.ndim)"
   ]
  },
  {
   "cell_type": "code",
   "execution_count": 40,
   "id": "6931f0b2-6792-43a6-bd98-ff8f3254cb85",
   "metadata": {},
   "outputs": [],
   "source": [
    "arr_all = np.full(3,30)    # creates the 1D array which consists of 3 elements and have all 3 values as 30"
   ]
  },
  {
   "cell_type": "markdown",
   "id": "be9e73dd-91c8-4bc4-9f41-3222f9da41cb",
   "metadata": {},
   "source": [
    "    numpy.full(shape, fill_value, dtype=None, order='C')\n"
   ]
  },
  {
   "cell_type": "code",
   "execution_count": 41,
   "id": "b5d22d90-747a-4fee-bdfe-4b3fc1148356",
   "metadata": {},
   "outputs": [
    {
     "name": "stdout",
     "output_type": "stream",
     "text": [
      "[30 30 30]\n"
     ]
    }
   ],
   "source": [
    "print(arr_all)"
   ]
  },
  {
   "cell_type": "code",
   "execution_count": 42,
   "id": "a4c1cc18-78ea-48d3-bdf1-9527dc877c98",
   "metadata": {},
   "outputs": [],
   "source": [
    "arr4 = np.full((4,6),99)           # creates the 2d array consists of 99 "
   ]
  },
  {
   "cell_type": "code",
   "execution_count": 43,
   "id": "36e71e32-0816-44eb-95ec-1d9c95327f81",
   "metadata": {},
   "outputs": [
    {
     "data": {
      "text/plain": [
       "array([[99, 99, 99, 99, 99, 99],\n",
       "       [99, 99, 99, 99, 99, 99],\n",
       "       [99, 99, 99, 99, 99, 99],\n",
       "       [99, 99, 99, 99, 99, 99]])"
      ]
     },
     "execution_count": 43,
     "metadata": {},
     "output_type": "execute_result"
    }
   ],
   "source": [
    "arr4"
   ]
  },
  {
   "cell_type": "code",
   "execution_count": 44,
   "id": "117c3f60-2311-41a5-8118-45b3aaba0f1b",
   "metadata": {},
   "outputs": [],
   "source": [
    "arr5 = np.full((2,2,2),4)"
   ]
  },
  {
   "cell_type": "code",
   "execution_count": 45,
   "id": "47f34ea8-5765-40fe-a0a0-a33ab666d535",
   "metadata": {},
   "outputs": [
    {
     "name": "stdout",
     "output_type": "stream",
     "text": [
      "[[[4 4]\n",
      "  [4 4]]\n",
      "\n",
      " [[4 4]\n",
      "  [4 4]]]\n",
      "3\n"
     ]
    }
   ],
   "source": [
    "print(arr5)\n",
    "print(arr5.ndim)"
   ]
  },
  {
   "cell_type": "code",
   "execution_count": 46,
   "id": "4659d91c-07d4-49a6-a574-ae60210ed102",
   "metadata": {},
   "outputs": [],
   "source": [
    "arr6 = np.identity(3)                 # creates the identity array or metrix"
   ]
  },
  {
   "cell_type": "code",
   "execution_count": 47,
   "id": "89440dd5-ed4d-4041-9256-352525727ec0",
   "metadata": {},
   "outputs": [
    {
     "name": "stdout",
     "output_type": "stream",
     "text": [
      "[[1. 0. 0.]\n",
      " [0. 1. 0.]\n",
      " [0. 0. 1.]]\n"
     ]
    }
   ],
   "source": [
    "print(arr6)"
   ]
  },
  {
   "cell_type": "markdown",
   "id": "994c36c9-f843-409c-95a9-d8af091d6cca",
   "metadata": {},
   "source": [
    "# creating array using arange"
   ]
  },
  {
   "cell_type": "markdown",
   "id": "cf454e01-4454-4c9c-b928-d727f352a3f2",
   "metadata": {},
   "source": [
    "Arange\n",
    "        -> using arange we can create array of specific elements of our desired range in asending order\n",
    "        -> numpy.arange([start, ]stop, [step, ], dtype=None)\n",
    "        -> we can control the elements of array while creating wiht start stop step and dtype\r\n"
   ]
  },
  {
   "cell_type": "code",
   "execution_count": 48,
   "id": "3c93e8d4-1732-4df8-b411-83a64f4fd0cd",
   "metadata": {},
   "outputs": [],
   "source": [
    "arr7 = np.arange(10)            # creates the 1D array consists of  0 to 9  elements"
   ]
  },
  {
   "cell_type": "code",
   "execution_count": 49,
   "id": "30ab98e3-9d0b-4c1d-86c4-41482fcd3021",
   "metadata": {},
   "outputs": [
    {
     "data": {
      "text/plain": [
       "array([0, 1, 2, 3, 4, 5, 6, 7, 8, 9])"
      ]
     },
     "execution_count": 49,
     "metadata": {},
     "output_type": "execute_result"
    }
   ],
   "source": [
    "arr7"
   ]
  },
  {
   "cell_type": "code",
   "execution_count": 50,
   "id": "5dfe4faf-abbb-47a0-aa6b-5c2ddd814868",
   "metadata": {},
   "outputs": [
    {
     "data": {
      "text/plain": [
       "array([ 0,  2,  4,  6,  8, 10])"
      ]
     },
     "execution_count": 50,
     "metadata": {},
     "output_type": "execute_result"
    }
   ],
   "source": [
    "arr8 = np.arange(0,11,2)\n",
    "arr8"
   ]
  },
  {
   "cell_type": "markdown",
   "id": "7c2d21f9-fa07-4c7c-a749-0bd4b2660ff3",
   "metadata": {},
   "source": [
    "linespace,\n",
    "\n",
    "numpy.linspace(start, stop, num=50, endpoint=True, retstep=False, dtype=None, axis=0)\r\n"
   ]
  },
  {
   "cell_type": "code",
   "execution_count": 51,
   "id": "23451229-a86f-4301-9993-6afd5ba3c51e",
   "metadata": {},
   "outputs": [],
   "source": [
    "arr9 = np.linspace(0,1,5)  #create a evenly sapced number with specific number of elements "
   ]
  },
  {
   "cell_type": "code",
   "execution_count": 52,
   "id": "beff9b8a-fee4-463d-ba06-68c7df617f18",
   "metadata": {},
   "outputs": [
    {
     "name": "stdout",
     "output_type": "stream",
     "text": [
      "[0.   0.25 0.5  0.75 1.  ]\n"
     ]
    }
   ],
   "source": [
    "print(arr9)"
   ]
  },
  {
   "cell_type": "code",
   "execution_count": 53,
   "id": "aa0eb240-6550-4536-94a2-f9e4d9af8ec9",
   "metadata": {},
   "outputs": [],
   "source": [
    "arr10 = np.linspace(0,10,30)  # it creates the list of number from 0 to 10 in 30 equal parts"
   ]
  },
  {
   "cell_type": "code",
   "execution_count": 54,
   "id": "eb2b5089-f532-4735-94dd-73d39390580f",
   "metadata": {},
   "outputs": [
    {
     "data": {
      "text/plain": [
       "array([ 0.        ,  0.34482759,  0.68965517,  1.03448276,  1.37931034,\n",
       "        1.72413793,  2.06896552,  2.4137931 ,  2.75862069,  3.10344828,\n",
       "        3.44827586,  3.79310345,  4.13793103,  4.48275862,  4.82758621,\n",
       "        5.17241379,  5.51724138,  5.86206897,  6.20689655,  6.55172414,\n",
       "        6.89655172,  7.24137931,  7.5862069 ,  7.93103448,  8.27586207,\n",
       "        8.62068966,  8.96551724,  9.31034483,  9.65517241, 10.        ])"
      ]
     },
     "execution_count": 54,
     "metadata": {},
     "output_type": "execute_result"
    }
   ],
   "source": [
    "arr10"
   ]
  },
  {
   "cell_type": "code",
   "execution_count": 55,
   "id": "568cfc07-e274-48a2-9c1f-6df05134623a",
   "metadata": {},
   "outputs": [],
   "source": [
    "arr11 = np.linspace(0,10,retstep=True)     # return step (retstep) shows the difference between two adjecent numbers from the array"
   ]
  },
  {
   "cell_type": "code",
   "execution_count": 56,
   "id": "da7d9a84-1433-4dc9-a891-e8296ab3fd8f",
   "metadata": {},
   "outputs": [
    {
     "name": "stdout",
     "output_type": "stream",
     "text": [
      "(array([ 0.        ,  0.20408163,  0.40816327,  0.6122449 ,  0.81632653,\n",
      "        1.02040816,  1.2244898 ,  1.42857143,  1.63265306,  1.83673469,\n",
      "        2.04081633,  2.24489796,  2.44897959,  2.65306122,  2.85714286,\n",
      "        3.06122449,  3.26530612,  3.46938776,  3.67346939,  3.87755102,\n",
      "        4.08163265,  4.28571429,  4.48979592,  4.69387755,  4.89795918,\n",
      "        5.10204082,  5.30612245,  5.51020408,  5.71428571,  5.91836735,\n",
      "        6.12244898,  6.32653061,  6.53061224,  6.73469388,  6.93877551,\n",
      "        7.14285714,  7.34693878,  7.55102041,  7.75510204,  7.95918367,\n",
      "        8.16326531,  8.36734694,  8.57142857,  8.7755102 ,  8.97959184,\n",
      "        9.18367347,  9.3877551 ,  9.59183673,  9.79591837, 10.        ]), 0.20408163265306123)\n"
     ]
    }
   ],
   "source": [
    "print(arr11)                 "
   ]
  },
  {
   "cell_type": "code",
   "execution_count": 57,
   "id": "d81a2e3e-0b4e-4f50-9142-7e0f1b904819",
   "metadata": {},
   "outputs": [],
   "source": [
    "arr12 = np.random.random(5)               # generates the 1D array of 5 random number between 0 to 1"
   ]
  },
  {
   "cell_type": "code",
   "execution_count": 58,
   "id": "839f420f-5ec2-432e-aa5a-d9fa84aa4190",
   "metadata": {},
   "outputs": [
    {
     "data": {
      "text/plain": [
       "array([0.55897878, 0.00133869, 0.7079722 , 0.30418232, 0.07586179])"
      ]
     },
     "execution_count": 58,
     "metadata": {},
     "output_type": "execute_result"
    }
   ],
   "source": [
    "arr12"
   ]
  },
  {
   "cell_type": "code",
   "execution_count": 59,
   "id": "7c0faa67-638f-4402-a85c-675d1785847c",
   "metadata": {},
   "outputs": [],
   "source": [
    "arr13 = np.random.random((2,3))        # generates the two dimensional array with  2 rows and 3 columns "
   ]
  },
  {
   "cell_type": "code",
   "execution_count": 60,
   "id": "ebf196c5-e011-4a9c-b172-18fddc7c9a19",
   "metadata": {},
   "outputs": [
    {
     "data": {
      "text/plain": [
       "array([[0.11612124, 0.27752386, 0.02185909],\n",
       "       [0.25062496, 0.59213513, 0.08646452]])"
      ]
     },
     "execution_count": 60,
     "metadata": {},
     "output_type": "execute_result"
    }
   ],
   "source": [
    "arr13"
   ]
  },
  {
   "cell_type": "code",
   "execution_count": 61,
   "id": "adb8f1db-1970-481e-bb2c-ab3a8c75425d",
   "metadata": {},
   "outputs": [],
   "source": [
    "arr14 = np.random.randint(1,100,(2,2))   # generates the 2d array with 2 rows and 2 columns of random integers between 1 to 100"
   ]
  },
  {
   "cell_type": "code",
   "execution_count": 62,
   "id": "31d63103-2f9d-4f00-9706-8dc59b2c8687",
   "metadata": {},
   "outputs": [
    {
     "data": {
      "text/plain": [
       "array([[71, 83],\n",
       "       [54, 78]])"
      ]
     },
     "execution_count": 62,
     "metadata": {},
     "output_type": "execute_result"
    }
   ],
   "source": [
    "arr14                                # each and every time i execute this cell it generated differents nuymbers"
   ]
  },
  {
   "cell_type": "code",
   "execution_count": 63,
   "id": "f91e0a30-4d96-4e2c-9c39-53e28ac7feb1",
   "metadata": {},
   "outputs": [
    {
     "data": {
      "text/plain": [
       "array([[0.95369844, 0.29036229, 0.56905474, 0.05695841],\n",
       "       [0.54637062, 0.57163232, 0.33013097, 0.98205172],\n",
       "       [0.29315518, 0.04632692, 0.85397252, 0.76317046]])"
      ]
     },
     "execution_count": 63,
     "metadata": {},
     "output_type": "execute_result"
    }
   ],
   "source": [
    "arr15 = np.random.rand(3,4)\n",
    "arr15"
   ]
  },
  {
   "cell_type": "markdown",
   "id": "c382f861-f43a-4006-b0b5-19f3b974d053",
   "metadata": {},
   "source": [
    "## Note: \n",
    "        np.random.rand() does not require tuples to specify shape \n",
    "        np.random.random() requires tuple to specify shape "
   ]
  },
  {
   "cell_type": "markdown",
   "id": "f534a37f-8695-436d-8858-a68b82bee3a4",
   "metadata": {},
   "source": [
    "### Indexing and Slicing Numpy Arrays\n",
    "\n",
    "    -> Numpy arrays each elements are associated with index that starts from 0 \n",
    "    -> accessing numpy arrays is very much similar to accessing python list\n",
    "    -> Slicing is to extract the part form array \n",
    "    -> array[start:stop:step]"
   ]
  },
  {
   "cell_type": "code",
   "execution_count": 64,
   "id": "1225f215-c739-426c-9552-fcfd67879c7a",
   "metadata": {},
   "outputs": [
    {
     "data": {
      "text/plain": [
       "array([0, 1, 2, 3, 4, 5, 6, 7, 8, 9])"
      ]
     },
     "execution_count": 64,
     "metadata": {},
     "output_type": "execute_result"
    }
   ],
   "source": [
    "arr7"
   ]
  },
  {
   "cell_type": "code",
   "execution_count": 65,
   "id": "99e10ffb-27ad-4562-a302-cf65150f2d7e",
   "metadata": {},
   "outputs": [
    {
     "data": {
      "text/plain": [
       "array([2, 3, 4, 5])"
      ]
     },
     "execution_count": 65,
     "metadata": {},
     "output_type": "execute_result"
    }
   ],
   "source": [
    "arr7[2:6]"
   ]
  },
  {
   "cell_type": "code",
   "execution_count": 66,
   "id": "1605d6bc-46bc-4342-92fb-a18a49956084",
   "metadata": {},
   "outputs": [
    {
     "data": {
      "text/plain": [
       "array([[2, 4, 6, 8],\n",
       "       [1, 3, 5, 7]])"
      ]
     },
     "execution_count": 66,
     "metadata": {},
     "output_type": "execute_result"
    }
   ],
   "source": [
    "arr16 = np.array([[2,4,6,8],[1,3,5,7]])\n",
    "arr16"
   ]
  },
  {
   "cell_type": "code",
   "execution_count": 67,
   "id": "349cf880-24f1-49d1-b722-2d4b7ed6319d",
   "metadata": {},
   "outputs": [
    {
     "name": "stdout",
     "output_type": "stream",
     "text": [
      "2\n",
      "1\n",
      "4\n",
      "3\n",
      "6\n",
      "5\n",
      "8\n",
      "7\n"
     ]
    }
   ],
   "source": [
    "print(arr16[0][0])\n",
    "print(arr16[1][0])\n",
    "print(arr16[0][1])\n",
    "print(arr16[1][1])\n",
    "print(arr16[0][2])\n",
    "print(arr16[1][2])\n",
    "print(arr16[0][3])\n",
    "print(arr16[1][3])"
   ]
  },
  {
   "cell_type": "code",
   "execution_count": 68,
   "id": "fae7bb6f-b55f-44cd-a35b-f548a7d00dd4",
   "metadata": {},
   "outputs": [
    {
     "name": "stdout",
     "output_type": "stream",
     "text": [
      "[[2]\n",
      " [1]]\n"
     ]
    }
   ],
   "source": [
    "print(arr16[::,:1:1])"
   ]
  },
  {
   "cell_type": "code",
   "execution_count": 69,
   "id": "fc597585-89f4-4c66-9881-46a59b640e58",
   "metadata": {},
   "outputs": [
    {
     "name": "stdout",
     "output_type": "stream",
     "text": [
      "[[2 4 6 8]\n",
      " [1 3 5 7]]\n"
     ]
    }
   ],
   "source": [
    "print(arr16[::,:4])"
   ]
  },
  {
   "cell_type": "code",
   "execution_count": 70,
   "id": "06d6a357-d815-4d97-8738-7a2cbccc4403",
   "metadata": {},
   "outputs": [
    {
     "name": "stdout",
     "output_type": "stream",
     "text": [
      "[[1 3 5 7]]\n",
      "[[2 4 6 8]]\n"
     ]
    }
   ],
   "source": [
    "print(arr16[1::])\n",
    "print(arr16[0::2])"
   ]
  },
  {
   "cell_type": "markdown",
   "id": "29fd62c3-fc83-4581-8232-5027a4c55f6a",
   "metadata": {},
   "source": [
    "### Array Manipulation\n",
    "        ->Reshape NumPy array\r",
    "        ->\n",
    "Transpose array        ->\r\n",
    "Flatten array"
   ]
  },
  {
   "cell_type": "code",
   "execution_count": 71,
   "id": "59223ccb-e216-4b4f-9ec6-f577a1f313f7",
   "metadata": {},
   "outputs": [],
   "source": [
    "arr17 = np.arange(1,7)"
   ]
  },
  {
   "cell_type": "code",
   "execution_count": 72,
   "id": "182fa03f-49cd-43ad-82c3-df882c4d04ab",
   "metadata": {},
   "outputs": [
    {
     "data": {
      "text/plain": [
       "array([1, 2, 3, 4, 5, 6])"
      ]
     },
     "execution_count": 72,
     "metadata": {},
     "output_type": "execute_result"
    }
   ],
   "source": [
    "arr17"
   ]
  },
  {
   "cell_type": "code",
   "execution_count": 73,
   "id": "894ae887-cbb9-4d74-9660-c170a7f8ed39",
   "metadata": {},
   "outputs": [
    {
     "data": {
      "text/plain": [
       "array([[1, 2, 3],\n",
       "       [4, 5, 6]])"
      ]
     },
     "execution_count": 73,
     "metadata": {},
     "output_type": "execute_result"
    }
   ],
   "source": [
    "arr18 = arr17.reshape(2,3)\n",
    "arr18"
   ]
  },
  {
   "cell_type": "code",
   "execution_count": 74,
   "id": "fc7995e9-cdc6-4477-ae74-c217acc34f43",
   "metadata": {},
   "outputs": [
    {
     "data": {
      "text/plain": [
       "array([[1, 2],\n",
       "       [3, 4],\n",
       "       [5, 6]])"
      ]
     },
     "execution_count": 74,
     "metadata": {},
     "output_type": "execute_result"
    }
   ],
   "source": [
    "arr17.reshape(3,2)"
   ]
  },
  {
   "cell_type": "code",
   "execution_count": 75,
   "id": "7b364c77-0547-4694-b62f-1a0a6bd47436",
   "metadata": {},
   "outputs": [
    {
     "data": {
      "text/plain": [
       "array([ 1,  2,  3,  4,  5,  6,  7,  8,  9, 10, 11, 12, 13, 14, 15, 16, 17,\n",
       "       18])"
      ]
     },
     "execution_count": 75,
     "metadata": {},
     "output_type": "execute_result"
    }
   ],
   "source": [
    "arr19 = np.arange(1,19)\n",
    "arr19"
   ]
  },
  {
   "cell_type": "code",
   "execution_count": 76,
   "id": "75ec1ee9-22e0-4666-899b-4a9c789d79e3",
   "metadata": {},
   "outputs": [
    {
     "data": {
      "text/plain": [
       "array([[ 1,  2,  3,  4,  5,  6],\n",
       "       [ 7,  8,  9, 10, 11, 12],\n",
       "       [13, 14, 15, 16, 17, 18]])"
      ]
     },
     "execution_count": 76,
     "metadata": {},
     "output_type": "execute_result"
    }
   ],
   "source": [
    "arr20 = arr19.reshape(3,6)   # converted 1D array to 2D array\n",
    "arr20"
   ]
  },
  {
   "cell_type": "code",
   "execution_count": 77,
   "id": "1caa8a5c-86a4-4695-ab8f-bcb2b689957d",
   "metadata": {},
   "outputs": [
    {
     "data": {
      "text/plain": [
       "array([[[ 1,  2,  3],\n",
       "        [ 4,  5,  6],\n",
       "        [ 7,  8,  9]],\n",
       "\n",
       "       [[10, 11, 12],\n",
       "        [13, 14, 15],\n",
       "        [16, 17, 18]]])"
      ]
     },
     "execution_count": 77,
     "metadata": {},
     "output_type": "execute_result"
    }
   ],
   "source": [
    "arr19.reshape(2,3,3)   # converted 2D aray to 3D array"
   ]
  },
  {
   "cell_type": "code",
   "execution_count": 78,
   "id": "63772c61-4233-4adf-950c-4a2bd91ec359",
   "metadata": {},
   "outputs": [
    {
     "name": "stdout",
     "output_type": "stream",
     "text": [
      "[[[ 1  2  3]\n",
      "  [ 4  5  6]]\n",
      "\n",
      " [[ 7  8  9]\n",
      "  [10 11 12]]\n",
      "\n",
      " [[13 14 15]\n",
      "  [16 17 18]]]\n"
     ]
    }
   ],
   "source": [
    "arr3d = arr19.reshape(3,2,3)     \n",
    "print(arr3d)                        # changed into 3d array of different format"
   ]
  },
  {
   "cell_type": "code",
   "execution_count": 79,
   "id": "59e24e96-2ab5-46b2-8c31-0889bf2e6a56",
   "metadata": {},
   "outputs": [
    {
     "name": "stdout",
     "output_type": "stream",
     "text": [
      "[[[[ 1  2  3]\n",
      "   [ 4  5  6]\n",
      "   [ 7  8  9]]]\n",
      "\n",
      "\n",
      " [[[10 11 12]\n",
      "   [13 14 15]\n",
      "   [16 17 18]]]]\n",
      "4\n"
     ]
    }
   ],
   "source": [
    "arr21 = arr19.reshape(2,1,3,3)\n",
    "print(arr21)                            # changed into 4D array\n",
    "print(arr21.ndim)"
   ]
  },
  {
   "cell_type": "code",
   "execution_count": 80,
   "id": "76f66301-dd9a-4ca9-b9cd-08731409428d",
   "metadata": {},
   "outputs": [
    {
     "name": "stdout",
     "output_type": "stream",
     "text": [
      "[[ 1  2  3  4  5  6]\n",
      " [ 7  8  9 10 11 12]\n",
      " [13 14 15 16 17 18]]\n",
      "(3, 6)\n"
     ]
    }
   ],
   "source": [
    "print(arr20)\n",
    "print(arr20.shape)"
   ]
  },
  {
   "cell_type": "code",
   "execution_count": 81,
   "id": "73a6e893-0bce-49aa-b4ba-e4c56fa66377",
   "metadata": {},
   "outputs": [
    {
     "name": "stdout",
     "output_type": "stream",
     "text": [
      "[[ 1  7 13]\n",
      " [ 2  8 14]\n",
      " [ 3  9 15]\n",
      " [ 4 10 16]\n",
      " [ 5 11 17]\n",
      " [ 6 12 18]]\n",
      "(6, 3)\n"
     ]
    }
   ],
   "source": [
    "arr20trans = np.transpose(arr20)               # changes rows into column and column into rows\n",
    "print(arr20trans)\n",
    "print(arr20trans.shape)"
   ]
  },
  {
   "cell_type": "code",
   "execution_count": 82,
   "id": "9782e7a6-cecf-4195-a5ba-6bf037440af9",
   "metadata": {},
   "outputs": [
    {
     "name": "stdout",
     "output_type": "stream",
     "text": [
      "[[0 1]\n",
      " [2 3]]\n",
      "(2, 2)\n"
     ]
    }
   ],
   "source": [
    "arr22 = np.array([[0,1],[2,3]])\n",
    "print(arr22)\n",
    "print(arr22.shape)"
   ]
  },
  {
   "cell_type": "code",
   "execution_count": 83,
   "id": "ab201596-5b49-470e-934f-a07793cfd87e",
   "metadata": {},
   "outputs": [
    {
     "name": "stdout",
     "output_type": "stream",
     "text": [
      "[[0 1 2]\n",
      " [3 0 1]\n",
      " [2 3 0]]\n",
      "(3, 3)\n"
     ]
    }
   ],
   "source": [
    "arr22resized = np.resize(arr22,(3,3))          #  resized the 2,2 array to 3,3 array\n",
    "print(arr22resized)\n",
    "print(arr22resized.shape)"
   ]
  },
  {
   "cell_type": "code",
   "execution_count": 84,
   "id": "18c36a05-4afe-41b4-88ae-669b5ca6a2fd",
   "metadata": {},
   "outputs": [
    {
     "name": "stdout",
     "output_type": "stream",
     "text": [
      "[0 1 2 3]\n"
     ]
    }
   ],
   "source": [
    "oned = arr22.flatten()        # converted into 1d array\n",
    "print(oned) "
   ]
  },
  {
   "cell_type": "code",
   "execution_count": 85,
   "id": "fe57b97d-b19a-4d98-b46b-866c91a941cb",
   "metadata": {},
   "outputs": [
    {
     "name": "stdout",
     "output_type": "stream",
     "text": [
      "[ 1  2  3  4  5  6  7  8  9 10 11 12 13 14 15 16 17 18]\n"
     ]
    }
   ],
   "source": [
    "print(arr3d.flatten('C'))         # reads the elements row by row"
   ]
  },
  {
   "cell_type": "code",
   "execution_count": 86,
   "id": "1f61a0b8-3412-41b3-be16-de94599fb360",
   "metadata": {},
   "outputs": [
    {
     "name": "stdout",
     "output_type": "stream",
     "text": [
      "[ 1  7 13  4 10 16  2  8 14  5 11 17  3  9 15  6 12 18]\n"
     ]
    }
   ],
   "source": [
    "print(arr3d.flatten('F'))               # reads the elements column by column"
   ]
  },
  {
   "cell_type": "code",
   "execution_count": 87,
   "id": "4d6e42a2-22c4-4a5f-8351-926ef2d38883",
   "metadata": {},
   "outputs": [
    {
     "name": "stdout",
     "output_type": "stream",
     "text": [
      "[ 1  2  3  4  5  6  7  8  9 10 11 12 13 14 15 16 17 18]\n"
     ]
    }
   ],
   "source": [
    "print(arr3d.flatten('A'))"
   ]
  },
  {
   "cell_type": "code",
   "execution_count": 88,
   "id": "32e1b7ff-494d-4dcb-b4fd-62e171db9078",
   "metadata": {},
   "outputs": [
    {
     "name": "stdout",
     "output_type": "stream",
     "text": [
      "[ 1  2  3  4  5  6  7  8  9 10 11 12 13 14 15 16 17 18]\n"
     ]
    }
   ],
   "source": [
    "print(arr3d.flatten('K'))         # preservs the order according to memory"
   ]
  },
  {
   "cell_type": "code",
   "execution_count": null,
   "id": "db175d57-930b-4c31-a0a0-c5d134b0d478",
   "metadata": {},
   "outputs": [],
   "source": []
  },
  {
   "cell_type": "markdown",
   "id": "24232b1f-8f7d-4fb8-92ea-61de493ec8cf",
   "metadata": {},
   "source": [
    "### Operatins and Functions"
   ]
  },
  {
   "cell_type": "code",
   "execution_count": 89,
   "id": "4566aa28-6e13-44b7-92a8-fb2b4bfd1008",
   "metadata": {},
   "outputs": [],
   "source": [
    "data = np.array([[3,8],[1,6]])\n",
    "one = np.ones((2,2),dtype=\"int\")"
   ]
  },
  {
   "cell_type": "code",
   "execution_count": 90,
   "id": "efe82f4f-0c97-41dc-a124-85f0e04c4b88",
   "metadata": {},
   "outputs": [
    {
     "name": "stdout",
     "output_type": "stream",
     "text": [
      "[[3 8]\n",
      " [1 6]]\n",
      "[[1 1]\n",
      " [1 1]]\n"
     ]
    }
   ],
   "source": [
    "print(data)\n",
    "print(one)"
   ]
  },
  {
   "cell_type": "code",
   "execution_count": 91,
   "id": "70f85379-de52-4a9f-8004-03eb9cbcd8fa",
   "metadata": {},
   "outputs": [],
   "source": [
    "res = data + one"
   ]
  },
  {
   "cell_type": "code",
   "execution_count": 92,
   "id": "8a80f46a-e95c-4cd7-b66b-16c9827ba728",
   "metadata": {},
   "outputs": [
    {
     "name": "stdout",
     "output_type": "stream",
     "text": [
      "[[4 9]\n",
      " [2 7]]\n"
     ]
    }
   ],
   "source": [
    "print(res)"
   ]
  },
  {
   "cell_type": "markdown",
   "id": "9a0afaa6-37aa-499a-bd8b-e8d73293c714",
   "metadata": {},
   "source": [
    "### Broadcasting"
   ]
  },
  {
   "cell_type": "code",
   "execution_count": 93,
   "id": "ef979a87-9d2e-4580-945e-97c955a1af32",
   "metadata": {},
   "outputs": [
    {
     "name": "stdout",
     "output_type": "stream",
     "text": [
      "[[1 2 3 4]\n",
      " [5 6 7 8]]\n",
      "[1 1 1 1]\n",
      "(2, 4)\n",
      "(4,)\n"
     ]
    }
   ],
   "source": [
    "arr25 = np.array([[1,2,3,4],[5,6,7,8]])\n",
    "onearr = np.ones(4,dtype=\"int\")\n",
    "print(arr25)\n",
    "print(onearr)\n",
    "print(arr25.shape)                              ### this is called broadcasting\n",
    "print(onearr.shape)"
   ]
  },
  {
   "cell_type": "code",
   "execution_count": 94,
   "id": "b65b350a-14cb-4f99-8410-c0f04ebd22ad",
   "metadata": {},
   "outputs": [
    {
     "name": "stdout",
     "output_type": "stream",
     "text": [
      "[[2 3 4 5]\n",
      " [6 7 8 9]]\n"
     ]
    }
   ],
   "source": [
    "print(arr25 + onearr)"
   ]
  },
  {
   "cell_type": "code",
   "execution_count": 95,
   "id": "aea67ffd-cb94-4cd1-b0fa-49926493f8a3",
   "metadata": {},
   "outputs": [
    {
     "name": "stdout",
     "output_type": "stream",
     "text": [
      "[[ 5  9 93  6]\n",
      " [ 9 13 97 10]]\n"
     ]
    }
   ],
   "source": [
    "arr26 = np.array([4,7,90,2])\n",
    "print(arr25 + arr26)"
   ]
  },
  {
   "cell_type": "code",
   "execution_count": 96,
   "id": "2ef52271-84e7-4270-a53c-1f6d978b1aed",
   "metadata": {},
   "outputs": [],
   "source": [
    "arr27 = np.array([[1,2,3]])"
   ]
  },
  {
   "cell_type": "code",
   "execution_count": 97,
   "id": "cf0fb72c-d1f9-4af5-8620-a091860b29f4",
   "metadata": {},
   "outputs": [
    {
     "data": {
      "text/plain": [
       "2"
      ]
     },
     "execution_count": 97,
     "metadata": {},
     "output_type": "execute_result"
    }
   ],
   "source": [
    "arr27.ndim"
   ]
  },
  {
   "cell_type": "code",
   "execution_count": 98,
   "id": "6dd9a683-f26d-47ed-92b2-346967d7a769",
   "metadata": {},
   "outputs": [],
   "source": [
    "arr28 = np.array([[1],[2],[3]])"
   ]
  },
  {
   "cell_type": "code",
   "execution_count": 99,
   "id": "aa48e4fc-4e95-4fa4-b0e6-f9b04fb89fd7",
   "metadata": {},
   "outputs": [
    {
     "data": {
      "text/plain": [
       "2"
      ]
     },
     "execution_count": 99,
     "metadata": {},
     "output_type": "execute_result"
    }
   ],
   "source": [
    "arr28.ndim"
   ]
  },
  {
   "cell_type": "code",
   "execution_count": 100,
   "id": "50d67d80-2474-4c24-bfac-d95fd784df0c",
   "metadata": {},
   "outputs": [
    {
     "name": "stdout",
     "output_type": "stream",
     "text": [
      "[[1 2 3]]\n",
      "[[1]\n",
      " [2]\n",
      " [3]]\n",
      "[[2 3 4]\n",
      " [3 4 5]\n",
      " [4 5 6]]\n"
     ]
    }
   ],
   "source": [
    "print(arr27)\n",
    "print(arr28)\n",
    "print(arr27 + arr28)"
   ]
  },
  {
   "cell_type": "code",
   "execution_count": 101,
   "id": "f38c1ce7-c091-499c-b279-f6f3af4c402f",
   "metadata": {},
   "outputs": [
    {
     "name": "stdout",
     "output_type": "stream",
     "text": [
      "(2, 4)\n",
      "(2, 4)\n"
     ]
    }
   ],
   "source": [
    "arr29 = np.array([[2,4,6,8],[5,6,8,0]])\n",
    "arr30 = np.array([[1,3,4,7],[5,7,6,9]])\n",
    "print(arr29.shape)\n",
    "print(arr30.shape)"
   ]
  },
  {
   "cell_type": "code",
   "execution_count": 102,
   "id": "db2d8ed8-f188-44aa-abaf-421e1bed455e",
   "metadata": {},
   "outputs": [
    {
     "name": "stdout",
     "output_type": "stream",
     "text": [
      "[[ 3  7 10 15]\n",
      " [10 13 14  9]]\n"
     ]
    }
   ],
   "source": [
    "print(arr29+arr30)"
   ]
  },
  {
   "cell_type": "code",
   "execution_count": 103,
   "id": "8f6a93c9-ed40-4ddc-b117-01f534c72803",
   "metadata": {},
   "outputs": [
    {
     "data": {
      "text/plain": [
       "array([[12,  3],\n",
       "       [ 8, 12]])"
      ]
     },
     "execution_count": 103,
     "metadata": {},
     "output_type": "execute_result"
    }
   ],
   "source": [
    "a=np.array([[4,3],[2,3]])\n",
    "b=np.array([[3,1],[4,4]])\n",
    "np.multiply(a,b)"
   ]
  },
  {
   "cell_type": "code",
   "execution_count": 104,
   "id": "8cd4a277-124a-44d5-84cd-806f91fe757e",
   "metadata": {},
   "outputs": [
    {
     "data": {
      "text/plain": [
       "array([[24, 16],\n",
       "       [18, 14]])"
      ]
     },
     "execution_count": 104,
     "metadata": {},
     "output_type": "execute_result"
    }
   ],
   "source": [
    "np.dot(a,b)"
   ]
  },
  {
   "cell_type": "code",
   "execution_count": 105,
   "id": "8ec9ac63-0cea-41a9-b39c-ea910f300657",
   "metadata": {},
   "outputs": [
    {
     "data": {
      "text/plain": [
       "array([[1.33333333, 3.        ],\n",
       "       [0.5       , 0.75      ]])"
      ]
     },
     "execution_count": 105,
     "metadata": {},
     "output_type": "execute_result"
    }
   ],
   "source": [
    "np.divide(a,b)"
   ]
  },
  {
   "cell_type": "markdown",
   "id": "b2eaa666-1ead-4d8e-9822-b7f84cd504cf",
   "metadata": {},
   "source": [
    "## Aggregation Operation"
   ]
  },
  {
   "cell_type": "code",
   "execution_count": 106,
   "id": "447eea2b-bf8d-4137-a68a-2c6bd59cd434",
   "metadata": {},
   "outputs": [
    {
     "data": {
      "text/plain": [
       "array([ 4,  7, 90,  2])"
      ]
     },
     "execution_count": 106,
     "metadata": {},
     "output_type": "execute_result"
    }
   ],
   "source": [
    "arr26"
   ]
  },
  {
   "cell_type": "code",
   "execution_count": 107,
   "id": "cf8cf3d9-3bb0-4470-bbd2-2ec2c4f71094",
   "metadata": {},
   "outputs": [
    {
     "name": "stdout",
     "output_type": "stream",
     "text": [
      "2\n"
     ]
    }
   ],
   "source": [
    "print(arr26.min())"
   ]
  },
  {
   "cell_type": "code",
   "execution_count": 108,
   "id": "85c58be4-3baf-4d36-87d2-d79b94bc97a5",
   "metadata": {},
   "outputs": [
    {
     "name": "stdout",
     "output_type": "stream",
     "text": [
      "90\n"
     ]
    }
   ],
   "source": [
    "print(arr26.max())"
   ]
  },
  {
   "cell_type": "code",
   "execution_count": 109,
   "id": "1377a07a-7c19-4c3f-93e9-1118a5e8b9ad",
   "metadata": {},
   "outputs": [
    {
     "name": "stdout",
     "output_type": "stream",
     "text": [
      "103\n"
     ]
    }
   ],
   "source": [
    "print(arr26.sum())"
   ]
  },
  {
   "cell_type": "code",
   "execution_count": 110,
   "id": "24d91a9b-8cba-4b66-964d-f1375d5ca6d8",
   "metadata": {},
   "outputs": [],
   "source": [
    "arrr = arr30.transpose()"
   ]
  },
  {
   "cell_type": "code",
   "execution_count": 111,
   "id": "ef575497-9e40-4035-95d7-5dfa23d34d87",
   "metadata": {},
   "outputs": [
    {
     "name": "stdout",
     "output_type": "stream",
     "text": [
      "[[1 5]\n",
      " [3 7]\n",
      " [4 6]\n",
      " [7 9]]\n",
      "\n",
      "1\n",
      "[1 5]\n",
      "[1 3 4 7]\n"
     ]
    }
   ],
   "source": [
    "print(arrr)\n",
    "print()\n",
    "print(arrr.min())\n",
    "print(arrr.min(axis=0))\n",
    "print(arrr.min(axis=1))"
   ]
  },
  {
   "cell_type": "code",
   "execution_count": 112,
   "id": "7429c981-e922-47f9-973a-17bcc58abffa",
   "metadata": {},
   "outputs": [
    {
     "name": "stdout",
     "output_type": "stream",
     "text": [
      "[[1 5]\n",
      " [3 7]\n",
      " [4 6]\n",
      " [7 9]]\n",
      "\n",
      "9\n",
      "[7 9]\n",
      "[5 7 6 9]\n",
      "42\n",
      "[15 27]\n",
      "[ 6 10 10 16]\n"
     ]
    }
   ],
   "source": [
    "print(arrr)\n",
    "print()\n",
    "print(arrr.max())\n",
    "print(arrr.max(axis=0))\n",
    "print(arrr.max(axis=1))\n",
    "print(arrr.sum())\n",
    "print(arrr.sum(axis=0))\n",
    "print(arrr.sum(axis=1))"
   ]
  },
  {
   "cell_type": "code",
   "execution_count": 113,
   "id": "0bb169d3-4b39-4769-b8a1-2245e307e9b3",
   "metadata": {},
   "outputs": [
    {
     "data": {
      "text/plain": [
       "array([ 4,  7, 90,  2])"
      ]
     },
     "execution_count": 113,
     "metadata": {},
     "output_type": "execute_result"
    }
   ],
   "source": [
    "arr26"
   ]
  },
  {
   "cell_type": "code",
   "execution_count": 114,
   "id": "b679c7a0-a8a5-48c2-b707-58a95c201c93",
   "metadata": {},
   "outputs": [],
   "source": [
    "mean = arr26.mean()"
   ]
  },
  {
   "cell_type": "code",
   "execution_count": 115,
   "id": "92ace505-e467-4455-bdae-d7453141d80b",
   "metadata": {},
   "outputs": [
    {
     "name": "stdout",
     "output_type": "stream",
     "text": [
      "25.75\n"
     ]
    }
   ],
   "source": [
    "print(mean)"
   ]
  },
  {
   "cell_type": "code",
   "execution_count": 116,
   "id": "e8c151a5-1018-42e4-8d54-e615e29ca1b9",
   "metadata": {},
   "outputs": [
    {
     "name": "stdout",
     "output_type": "stream",
     "text": [
      "5.5\n"
     ]
    }
   ],
   "source": [
    "print(np.median(arr26))"
   ]
  },
  {
   "cell_type": "code",
   "execution_count": 117,
   "id": "b518f28e-5518-4bf9-9545-a6737d6851a9",
   "metadata": {},
   "outputs": [
    {
     "name": "stdout",
     "output_type": "stream",
     "text": [
      "37.13741374947911\n"
     ]
    }
   ],
   "source": [
    "print(np.std(arr26))"
   ]
  },
  {
   "cell_type": "code",
   "execution_count": 118,
   "id": "c1605643-2828-4ac3-8eb5-aa1d04971a79",
   "metadata": {},
   "outputs": [
    {
     "name": "stdout",
     "output_type": "stream",
     "text": [
      "1379.1875\n"
     ]
    }
   ],
   "source": [
    "print(np.var(arr26))"
   ]
  },
  {
   "cell_type": "code",
   "execution_count": 119,
   "id": "5715ed48-2c92-4961-a6f6-c98549a1bb0f",
   "metadata": {},
   "outputs": [
    {
     "name": "stdout",
     "output_type": "stream",
     "text": [
      "90.0\n"
     ]
    }
   ],
   "source": [
    "print(np.percentile(arr26,100))"
   ]
  },
  {
   "cell_type": "code",
   "execution_count": 120,
   "id": "ca928ecc-2e8e-4960-b44f-e1654cb2d7dc",
   "metadata": {},
   "outputs": [],
   "source": [
    "a = np.array([1,2,3,4,5])\n",
    "np.save('outfile',a)"
   ]
  },
  {
   "cell_type": "code",
   "execution_count": 121,
   "id": "81c8b96a-1569-4ca3-a1c8-167b36954536",
   "metadata": {},
   "outputs": [],
   "source": [
    "b = np.load('outfile.npy')"
   ]
  },
  {
   "cell_type": "code",
   "execution_count": 122,
   "id": "de89835c-0343-4048-807c-5f879bdfb5c6",
   "metadata": {},
   "outputs": [
    {
     "data": {
      "text/plain": [
       "array([1, 2, 3, 4, 5])"
      ]
     },
     "execution_count": 122,
     "metadata": {},
     "output_type": "execute_result"
    }
   ],
   "source": [
    "b"
   ]
  },
  {
   "cell_type": "code",
   "execution_count": 123,
   "id": "10188c56-cda5-4178-b7bc-6420cc029345",
   "metadata": {},
   "outputs": [
    {
     "data": {
      "text/plain": [
       "array([ 4,  7, 90,  2])"
      ]
     },
     "execution_count": 123,
     "metadata": {},
     "output_type": "execute_result"
    }
   ],
   "source": [
    "arr26"
   ]
  },
  {
   "cell_type": "code",
   "execution_count": 124,
   "id": "950a0e71-4f74-4be5-928d-cfe43ac6612e",
   "metadata": {},
   "outputs": [
    {
     "data": {
      "text/plain": [
       "4"
      ]
     },
     "execution_count": 124,
     "metadata": {},
     "output_type": "execute_result"
    }
   ],
   "source": [
    "len(arr26)"
   ]
  },
  {
   "cell_type": "code",
   "execution_count": 125,
   "id": "fb892bbe-77c8-491e-ae35-c35c8dd0482a",
   "metadata": {},
   "outputs": [
    {
     "data": {
      "text/plain": [
       "array([ 2, 90,  7,  4])"
      ]
     },
     "execution_count": 125,
     "metadata": {},
     "output_type": "execute_result"
    }
   ],
   "source": [
    "rev_arr = arr26[::-1]\n",
    "rev_arr"
   ]
  },
  {
   "cell_type": "code",
   "execution_count": 126,
   "id": "8621e753-a07f-4abc-b19d-49fe2af451be",
   "metadata": {},
   "outputs": [
    {
     "data": {
      "text/plain": [
       "array([1, 2, 3, 4, 5])"
      ]
     },
     "execution_count": 126,
     "metadata": {},
     "output_type": "execute_result"
    }
   ],
   "source": [
    "b"
   ]
  },
  {
   "cell_type": "code",
   "execution_count": 127,
   "id": "ff569b67-c0ac-4001-957e-25ec53e05e77",
   "metadata": {},
   "outputs": [
    {
     "name": "stdout",
     "output_type": "stream",
     "text": [
      "[11.  2.  5.  3.]\n"
     ]
    }
   ],
   "source": [
    "b=np.array([1,11,2,5,7,3,9])\n",
    "prime_array=np.array([])\n",
    "for i in range(0,len(b)):\n",
    "    if b[i]<=1:\n",
    "        continue\n",
    "    for j in range(2,i):\n",
    "        if i%j == 0:\n",
    "            break\n",
    "    else:\n",
    "        prime_array = np.append(prime_array,b[i])\n",
    "print(prime_array)"
   ]
  },
  {
   "cell_type": "code",
   "execution_count": 128,
   "id": "b6855982-05e3-46fb-9168-187a9c363fc6",
   "metadata": {},
   "outputs": [
    {
     "name": "stdin",
     "output_type": "stream",
     "text": [
      "Enter the numbers sepratred by space: 2 5 6 9 7 4 33 6 4\n"
     ]
    },
    {
     "name": "stdout",
     "output_type": "stream",
     "text": [
      "[ 2  5  6  9  7  4 33  6  4]\n"
     ]
    }
   ],
   "source": [
    "nums = input(\"Enter the numbers sepratred by space:\")\n",
    "num_list  = nums.split()\n",
    "num_array = np.array(num_list,dtype=int)\n",
    "print(num_array)"
   ]
  },
  {
   "cell_type": "code",
   "execution_count": 134,
   "id": "fcf76ac3-15bb-4a8d-98a9-b85a1ddf51ae",
   "metadata": {},
   "outputs": [
    {
     "name": "stdout",
     "output_type": "stream",
     "text": [
      "[[2 2]\n",
      " [1 2]\n",
      " [3 4]]\n"
     ]
    }
   ],
   "source": [
    "arr32 = np.array([[2,2],[1,2],[3,4]])\n",
    "print(arr32)"
   ]
  },
  {
   "cell_type": "code",
   "execution_count": 135,
   "id": "c48f3e0e-4138-40ae-abae-c0cea6dc75de",
   "metadata": {},
   "outputs": [
    {
     "name": "stdout",
     "output_type": "stream",
     "text": [
      "[[1 2]\n",
      " [3 4]]\n"
     ]
    }
   ],
   "source": [
    "print(arr32[1:])"
   ]
  },
  {
   "cell_type": "code",
   "execution_count": null,
   "id": "903bd41d-e4dc-4f45-9d40-eb9d44bc4cb3",
   "metadata": {},
   "outputs": [],
   "source": []
  }
 ],
 "metadata": {
  "kernelspec": {
   "display_name": "Python 3 (ipykernel)",
   "language": "python",
   "name": "python3"
  },
  "language_info": {
   "codemirror_mode": {
    "name": "ipython",
    "version": 3
   },
   "file_extension": ".py",
   "mimetype": "text/x-python",
   "name": "python",
   "nbconvert_exporter": "python",
   "pygments_lexer": "ipython3",
   "version": "3.12.4"
  }
 },
 "nbformat": 4,
 "nbformat_minor": 5
}
